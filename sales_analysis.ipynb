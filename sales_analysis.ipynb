{
  "cells": [
    {
      "cell_type": "markdown",
      "metadata": {},
      "source": "# Sales Data Analysis (Excel, Python – Pandas, Matplotlib)\n\nThis notebook loads a synthetic sales dataset, performs data cleaning, exploratory data analysis (EDA), \nand visualizes KPIs including revenue trends, product performance, and regional patterns.\n\n**Tools:** Pandas, Matplotlib\n"
    },
    {
      "cell_type": "code",
      "execution_count": null,
      "metadata": {},
      "outputs": [],
      "source": "import pandas as pd\nimport numpy as np\nimport matplotlib.pyplot as plt\n\n# Display options\npd.set_option('display.max_columns', 50)\npd.set_option('display.float_format', lambda x: f'{x:,.2f}')\n\n# Load dataset\ndf = pd.read_csv('../data/sales_data.csv', parse_dates=['OrderDate'])\n\n# Basic cleaning and features\ndf['Revenue'] = (df['Quantity'] * df['UnitPrice']).round(2)\ndf['OrderMonth'] = df['OrderDate'].dt.to_period('M').astype(str)\ndf['OrderQuarter'] = df['OrderDate'].dt.to_period('Q').astype(str)\n\ndf.head(3)\n"
    },
    {
      "cell_type": "markdown",
      "metadata": {},
      "source": "## Data Quality Checks"
    },
    {
      "cell_type": "code",
      "execution_count": null,
      "metadata": {},
      "outputs": [],
      "source": "# Missing values and basic info\ndisplay(df.isna().sum())\ndisplay(df.describe(include='all'))"
    },
    {
      "cell_type": "markdown",
      "metadata": {},
      "source": "## Revenue Trends Over Time"
    },
    {
      "cell_type": "code",
      "execution_count": null,
      "metadata": {},
      "outputs": [],
      "source": "# Monthly Revenue\nmonthly_rev = df.groupby('OrderMonth', as_index=False)['Revenue'].sum()\nmonthly_rev['OrderMonth'] = pd.to_datetime(monthly_rev['OrderMonth'])\nmonthly_rev = monthly_rev.sort_values('OrderMonth')\n\nplt.figure(figsize=(10,5))\nplt.plot(monthly_rev['OrderMonth'], monthly_rev['Revenue'])\nplt.title('Monthly Revenue Trend')\nplt.xlabel('Month')\nplt.ylabel('Revenue')\nplt.xticks(rotation=45)\nplt.tight_layout()\nplt.show()\n\nmonthly_rev.tail(6)\n"
    },
    {
      "cell_type": "markdown",
      "metadata": {},
      "source": "## Product & Category Performance"
    },
    {
      "cell_type": "code",
      "execution_count": null,
      "metadata": {},
      "outputs": [],
      "source": "# Top 10 Products by Revenue\ntop_products = df.groupby('Product', as_index=False)['Revenue'].sum().sort_values('Revenue', ascending=False).head(10)\n\nplt.figure(figsize=(10,5))\nplt.bar(top_products['Product'], top_products['Revenue'])\nplt.title('Top 10 Products by Revenue')\nplt.ylabel('Revenue')\nplt.xticks(rotation=45, ha='right')\nplt.tight_layout()\nplt.show()\n\n# Category mix\ncat_rev = df.groupby('Category', as_index=False)['Revenue'].sum().sort_values('Revenue', ascending=False)\n\nplt.figure(figsize=(8,5))\nplt.bar(cat_rev['Category'], cat_rev['Revenue'])\nplt.title('Revenue by Category')\nplt.ylabel('Revenue')\nplt.xticks(rotation=45, ha='right')\nplt.tight_layout()\nplt.show()\n\ncat_rev\n"
    },
    {
      "cell_type": "markdown",
      "metadata": {},
      "source": "## Regional Insights"
    },
    {
      "cell_type": "code",
      "execution_count": null,
      "metadata": {},
      "outputs": [],
      "source": "region_rev = df.groupby('Region', as_index=False)['Revenue'].sum().sort_values('Revenue', ascending=False)\n\nplt.figure(figsize=(7,5))\nplt.bar(region_rev['Region'], region_rev['Revenue'])\nplt.title('Revenue by Region')\nplt.ylabel('Revenue')\nplt.tight_layout()\nplt.show()\n\nregion_rev\n"
    },
    {
      "cell_type": "markdown",
      "metadata": {},
      "source": "## Customer Purchase Behavior"
    },
    {
      "cell_type": "code",
      "execution_count": null,
      "metadata": {},
      "outputs": [],
      "source": "cust_metrics = df.groupby('CustomerID').agg(\n    orders=('OrderID', 'nunique'),\n    total_revenue=('Revenue', 'sum'),\n    avg_order_value=('Revenue', 'mean')\n).reset_index()\n\ncust_metrics.sort_values('total_revenue', ascending=False).head(10)\n"
    },
    {
      "cell_type": "markdown",
      "metadata": {},
      "source": "## Key KPIs"
    },
    {
      "cell_type": "code",
      "execution_count": null,
      "metadata": {},
      "outputs": [],
      "source": "total_revenue = df['Revenue'].sum()\nunique_customers = df['CustomerID'].nunique()\navg_order_value = df.groupby('OrderID')['Revenue'].sum().mean()\n\nprint('Total Revenue:', round(total_revenue, 2))\nprint('Unique Customers:', unique_customers)\nprint('Average Order Value (AOV):', round(avg_order_value, 2))\n"
    },
    {
      "cell_type": "markdown",
      "metadata": {},
      "source": "## Conclusions\n- Revenue shows seasonal peaks (notably in Q4).\n- A small set of products contributes disproportionately to total revenue.\n- Regional performance varies; consider region-specific promotions.\n"
    }
  ],
  "metadata": {
    "kernelspec": {
      "display_name": "Python 3",
      "language": "python",
      "name": "python3"
    },
    "language_info": {
      "name": "python",
      "version": "3.x"
    }
  },
  "nbformat": 4,
  "nbformat_minor": 5
}